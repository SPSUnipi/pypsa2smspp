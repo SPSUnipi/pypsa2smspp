{
 "cells": [
  {
   "cell_type": "code",
   "execution_count": 1,
   "id": "19c7929c",
   "metadata": {},
   "outputs": [
    {
     "name": "stderr",
     "output_type": "stream",
     "text": [
      "WARNING    2025-09-17 15:08:43,945 pypsa.network.io _import_components_from_df  1732: The following Generator have buses which are not defined:\n",
      "Index(['IT0 0 0 solar'], dtype='object')\n",
      "WARNING    2025-09-17 15:08:44,020 pypsa.network.io _import_components_from_df  1732: The following Store have buses which are not defined:\n",
      "Index(['IT0 0 H2'], dtype='object')\n",
      "WARNING    2025-09-17 15:08:44,154 pypsa.consistency _log_or_raise  40  : The following buses have carriers which are not defined:\n",
      "Index(['IT0 0 H2'], dtype='object', name='Bus')\n",
      "WARNING    2025-09-17 15:08:44,178 pypsa.consistency _log_or_raise  40  : The following links have carriers which are not defined:\n",
      "Index(['IT0 0 H2 Electrolysis', 'IT0 0 H2 Fuel Cell'], dtype='object', name='Link')\n",
      "WARNING    2025-09-17 15:08:44,214 pypsa.consistency _log_or_raise  40  : The following stores have carriers which are not defined:\n",
      "Index(['IT0 0 H2'], dtype='object', name='Store')\n",
      "INFO       2025-09-17 15:08:45,788 linopy.model solve       1145:  Solve problem using Gurobi solver\n",
      "INFO       2025-09-17 15:08:46,097 linopy.io  to_lp_file  498 :  Writing time: 0.1s\n"
     ]
    },
    {
     "name": "stdout",
     "output_type": "stream",
     "text": [
      "Set parameter Username\n"
     ]
    },
    {
     "name": "stderr",
     "output_type": "stream",
     "text": [
      "INFO       2025-09-17 15:08:46,102 gurobipy   solve_problem_from_file  1033: Set parameter Username\n"
     ]
    },
    {
     "name": "stdout",
     "output_type": "stream",
     "text": [
      "Set parameter LicenseID to value 2647006\n"
     ]
    },
    {
     "name": "stderr",
     "output_type": "stream",
     "text": [
      "INFO       2025-09-17 15:08:46,104 gurobipy   solve_problem_from_file  1033: Set parameter LicenseID to value 2647006\n"
     ]
    },
    {
     "name": "stdout",
     "output_type": "stream",
     "text": [
      "Academic license - for non-commercial use only - expires 2026-04-03\n"
     ]
    },
    {
     "name": "stderr",
     "output_type": "stream",
     "text": [
      "INFO       2025-09-17 15:08:46,108 gurobipy   solve_problem_from_file  1033: Academic license - for non-commercial use only - expires 2026-04-03\n"
     ]
    },
    {
     "name": "stdout",
     "output_type": "stream",
     "text": [
      "Read LP format model from file /tmp/linopy-problem-dojhtsg2.lp\n"
     ]
    },
    {
     "name": "stderr",
     "output_type": "stream",
     "text": [
      "INFO       2025-09-17 15:08:46,112 gurobipy   solve_problem_from_file  1037: Read LP format model from file /tmp/linopy-problem-dojhtsg2.lp\n"
     ]
    },
    {
     "name": "stdout",
     "output_type": "stream",
     "text": [
      "Reading time = 0.00 seconds\n"
     ]
    },
    {
     "name": "stderr",
     "output_type": "stream",
     "text": [
      "INFO       2025-09-17 15:08:46,114 gurobipy   solve_problem_from_file  1037: Reading time = 0.00 seconds\n"
     ]
    },
    {
     "name": "stdout",
     "output_type": "stream",
     "text": [
      "obj: 362 rows, 170 columns, 565 nonzeros\n"
     ]
    },
    {
     "name": "stderr",
     "output_type": "stream",
     "text": [
      "INFO       2025-09-17 15:08:46,117 gurobipy   solve_problem_from_file  1037: obj: 362 rows, 170 columns, 565 nonzeros\n"
     ]
    },
    {
     "name": "stdout",
     "output_type": "stream",
     "text": [
      "Gurobi Optimizer version 12.0.2 build v12.0.2rc0 (linux64 - \"Ubuntu 24.04.3 LTS\")\n"
     ]
    },
    {
     "name": "stderr",
     "output_type": "stream",
     "text": [
      "INFO       2025-09-17 15:08:46,119 gurobipy   _solve      1113: Gurobi Optimizer version 12.0.2 build v12.0.2rc0 (linux64 - \"Ubuntu 24.04.3 LTS\")\n"
     ]
    },
    {
     "name": "stdout",
     "output_type": "stream",
     "text": [
      "\n"
     ]
    },
    {
     "name": "stderr",
     "output_type": "stream",
     "text": [
      "INFO       2025-09-17 15:08:46,121 gurobipy   _solve      1113: \n"
     ]
    },
    {
     "name": "stdout",
     "output_type": "stream",
     "text": [
      "CPU model: Intel(R) Xeon(R) Gold 5120 CPU @ 2.20GHz, instruction set [SSE2|AVX|AVX2|AVX512]\n"
     ]
    },
    {
     "name": "stderr",
     "output_type": "stream",
     "text": [
      "INFO       2025-09-17 15:08:46,123 gurobipy   _solve      1113: CPU model: Intel(R) Xeon(R) Gold 5120 CPU @ 2.20GHz, instruction set [SSE2|AVX|AVX2|AVX512]\n"
     ]
    },
    {
     "name": "stdout",
     "output_type": "stream",
     "text": [
      "Thread count: 16 physical cores, 16 logical processors, using up to 16 threads\n"
     ]
    },
    {
     "name": "stderr",
     "output_type": "stream",
     "text": [
      "INFO       2025-09-17 15:08:46,125 gurobipy   _solve      1113: Thread count: 16 physical cores, 16 logical processors, using up to 16 threads\n"
     ]
    },
    {
     "name": "stdout",
     "output_type": "stream",
     "text": [
      "\n"
     ]
    },
    {
     "name": "stderr",
     "output_type": "stream",
     "text": [
      "INFO       2025-09-17 15:08:46,127 gurobipy   _solve      1113: \n"
     ]
    },
    {
     "name": "stdout",
     "output_type": "stream",
     "text": [
      "Optimize a model with 362 rows, 170 columns and 565 nonzeros\n"
     ]
    },
    {
     "name": "stderr",
     "output_type": "stream",
     "text": [
      "INFO       2025-09-17 15:08:46,131 gurobipy   _solve      1113: Optimize a model with 362 rows, 170 columns and 565 nonzeros\n"
     ]
    },
    {
     "name": "stdout",
     "output_type": "stream",
     "text": [
      "Model fingerprint: 0x574469fe\n"
     ]
    },
    {
     "name": "stderr",
     "output_type": "stream",
     "text": [
      "INFO       2025-09-17 15:08:46,132 gurobipy   _solve      1113: Model fingerprint: 0x574469fe\n"
     ]
    },
    {
     "name": "stdout",
     "output_type": "stream",
     "text": [
      "Coefficient statistics:\n"
     ]
    },
    {
     "name": "stderr",
     "output_type": "stream",
     "text": [
      "INFO       2025-09-17 15:08:46,134 gurobipy   _solve      1113: Coefficient statistics:\n"
     ]
    },
    {
     "name": "stdout",
     "output_type": "stream",
     "text": [
      "  Matrix range     [4e-02, 1e+00]\n"
     ]
    },
    {
     "name": "stderr",
     "output_type": "stream",
     "text": [
      "INFO       2025-09-17 15:08:46,135 gurobipy   _solve      1113:   Matrix range     [4e-02, 1e+00]\n"
     ]
    },
    {
     "name": "stdout",
     "output_type": "stream",
     "text": [
      "  Objective range  [1e-02, 5e+04]\n"
     ]
    },
    {
     "name": "stderr",
     "output_type": "stream",
     "text": [
      "INFO       2025-09-17 15:08:46,137 gurobipy   _solve      1113:   Objective range  [1e-02, 5e+04]\n"
     ]
    },
    {
     "name": "stdout",
     "output_type": "stream",
     "text": [
      "  Bounds range     [1e+09, 1e+09]\n"
     ]
    },
    {
     "name": "stderr",
     "output_type": "stream",
     "text": [
      "INFO       2025-09-17 15:08:46,138 gurobipy   _solve      1113:   Bounds range     [1e+09, 1e+09]\n"
     ]
    },
    {
     "name": "stdout",
     "output_type": "stream",
     "text": [
      "  RHS range        [1e+02, 7e+05]\n"
     ]
    },
    {
     "name": "stderr",
     "output_type": "stream",
     "text": [
      "INFO       2025-09-17 15:08:46,140 gurobipy   _solve      1113:   RHS range        [1e+02, 7e+05]\n"
     ]
    },
    {
     "name": "stdout",
     "output_type": "stream",
     "text": [
      "Warning: Model contains large bounds\n"
     ]
    },
    {
     "name": "stderr",
     "output_type": "stream",
     "text": [
      "INFO       2025-09-17 15:08:46,141 gurobipy   _solve      1113: Warning: Model contains large bounds\n"
     ]
    },
    {
     "name": "stdout",
     "output_type": "stream",
     "text": [
      "         Consider reformulating model or setting NumericFocus parameter\n"
     ]
    },
    {
     "name": "stderr",
     "output_type": "stream",
     "text": [
      "INFO       2025-09-17 15:08:46,146 gurobipy   _solve      1113:          Consider reformulating model or setting NumericFocus parameter\n"
     ]
    },
    {
     "name": "stdout",
     "output_type": "stream",
     "text": [
      "         to avoid numerical issues.\n"
     ]
    },
    {
     "name": "stderr",
     "output_type": "stream",
     "text": [
      "INFO       2025-09-17 15:08:46,147 gurobipy   _solve      1113:          to avoid numerical issues.\n"
     ]
    },
    {
     "name": "stdout",
     "output_type": "stream",
     "text": [
      "Presolve removed 340 rows and 97 columns\n"
     ]
    },
    {
     "name": "stderr",
     "output_type": "stream",
     "text": [
      "INFO       2025-09-17 15:08:46,150 gurobipy   _solve      1113: Presolve removed 340 rows and 97 columns\n"
     ]
    },
    {
     "name": "stdout",
     "output_type": "stream",
     "text": [
      "Presolve time: 0.02s\n"
     ]
    },
    {
     "name": "stderr",
     "output_type": "stream",
     "text": [
      "INFO       2025-09-17 15:08:46,152 gurobipy   _solve      1113: Presolve time: 0.02s\n"
     ]
    },
    {
     "name": "stdout",
     "output_type": "stream",
     "text": [
      "Presolved: 22 rows, 73 columns, 95 nonzeros\n"
     ]
    },
    {
     "name": "stderr",
     "output_type": "stream",
     "text": [
      "INFO       2025-09-17 15:08:46,154 gurobipy   _solve      1113: Presolved: 22 rows, 73 columns, 95 nonzeros\n"
     ]
    },
    {
     "name": "stdout",
     "output_type": "stream",
     "text": [
      "\n"
     ]
    },
    {
     "name": "stderr",
     "output_type": "stream",
     "text": [
      "INFO       2025-09-17 15:08:46,157 gurobipy   _solve      1113: \n"
     ]
    },
    {
     "name": "stdout",
     "output_type": "stream",
     "text": [
      "Iteration    Objective       Primal Inf.    Dual Inf.      Time\n"
     ]
    },
    {
     "name": "stderr",
     "output_type": "stream",
     "text": [
      "INFO       2025-09-17 15:08:46,159 gurobipy   _solve      1113: Iteration    Objective       Primal Inf.    Dual Inf.      Time\n"
     ]
    },
    {
     "name": "stdout",
     "output_type": "stream",
     "text": [
      "       0    3.9595934e+08   7.161263e+02   0.000000e+00      0s\n"
     ]
    },
    {
     "name": "stderr",
     "output_type": "stream",
     "text": [
      "INFO       2025-09-17 15:08:46,162 gurobipy   _solve      1113:        0    3.9595934e+08   7.161263e+02   0.000000e+00      0s\n"
     ]
    },
    {
     "name": "stdout",
     "output_type": "stream",
     "text": [
      "      18    4.1398860e+08   0.000000e+00   0.000000e+00      0s\n"
     ]
    },
    {
     "name": "stderr",
     "output_type": "stream",
     "text": [
      "INFO       2025-09-17 15:08:46,164 gurobipy   _solve      1113:       18    4.1398860e+08   0.000000e+00   0.000000e+00      0s\n"
     ]
    },
    {
     "name": "stdout",
     "output_type": "stream",
     "text": [
      "\n"
     ]
    },
    {
     "name": "stderr",
     "output_type": "stream",
     "text": [
      "INFO       2025-09-17 15:08:46,165 gurobipy   _solve      1113: \n"
     ]
    },
    {
     "name": "stdout",
     "output_type": "stream",
     "text": [
      "Solved in 18 iterations and 0.04 seconds (0.00 work units)\n"
     ]
    },
    {
     "name": "stderr",
     "output_type": "stream",
     "text": [
      "INFO       2025-09-17 15:08:46,167 gurobipy   _solve      1113: Solved in 18 iterations and 0.04 seconds (0.00 work units)\n"
     ]
    },
    {
     "name": "stdout",
     "output_type": "stream",
     "text": [
      "Optimal objective  4.139885957e+08\n"
     ]
    },
    {
     "name": "stderr",
     "output_type": "stream",
     "text": [
      "INFO       2025-09-17 15:08:46,168 gurobipy   _solve      1113: Optimal objective  4.139885957e+08\n",
      "INFO       2025-09-17 15:08:46,178 linopy.constants info        246 :  Optimization successful: \n",
      "Status: ok\n",
      "Termination condition: optimal\n",
      "Solution: 170 primals, 362 duals\n",
      "Objective: 4.14e+08\n",
      "Solver model: available\n",
      "Solver message: 2\n",
      "\n",
      "INFO       2025-09-17 15:08:46,298 pypsa.optimization.optimize assign_duals  681 : The shadow-prices of the constraints Generator-fix-p-lower, Generator-fix-p-upper, Generator-ext-p-lower, Generator-ext-p-upper, Link-fix-p-lower, Link-fix-p-upper, Store-fix-e-lower, Store-fix-e-upper, Store-energy_balance were not assigned to the network.\n",
      "/dati/pampado/pypsa2smspp/pypsa2smspp/transformation_config.py:90: FutureWarning:\n",
      "\n",
      "Series.__getitem__ treating keys as positions is deprecated. In a future version, integer keys will always be treated as labels (consistent with DataFrame behavior). To access a value by position, use `ser.iloc[pos]`\n",
      "\n",
      "/dati/pampado/pypsa2smspp/pypsa2smspp/transformation_config.py:91: FutureWarning:\n",
      "\n",
      "Series.__getitem__ treating keys as positions is deprecated. In a future version, integer keys will always be treated as labels (consistent with DataFrame behavior). To access a value by position, use `ser.iloc[pos]`\n",
      "\n",
      "/dati/pampado/pypsa2smspp/pypsa2smspp/transformation_config.py:97: FutureWarning:\n",
      "\n",
      "Series.__getitem__ treating keys as positions is deprecated. In a future version, integer keys will always be treated as labels (consistent with DataFrame behavior). To access a value by position, use `ser.iloc[pos]`\n",
      "\n"
     ]
    },
    {
     "name": "stdout",
     "output_type": "stream",
     "text": [
      "La classe di trasformazione ci mette 0:00:00.190031 secondi\n"
     ]
    }
   ],
   "source": [
    "import sys\n",
    "import os\n",
    "import warnings\n",
    "warnings.filterwarnings(\"ignore\", category=DeprecationWarning)\n",
    "\n",
    "# Aggiunge il percorso relativo per la cartella `config`\n",
    "sys.path.append(os.path.abspath(\"../scripts\"))\n",
    "# Aggiunge il percorso relativo per la cartella `scripts`\n",
    "sys.path.append(os.path.abspath(\".\"))\n",
    "\n",
    "# DIR = os.path.dirname(os.path.abspath(__file__))\n",
    "\n",
    "\n",
    "from configs.test_config import TestConfig\n",
    "from network_definition import NetworkDefinition\n",
    "from pypsa2smspp.transformation import Transformation\n",
    "from datetime import datetime\n",
    "import pysmspp\n",
    "\n",
    "from pypsa2smspp.network_correction import (\n",
    "    clean_marginal_cost,\n",
    "    clean_global_constraints,\n",
    "    clean_e_sum,\n",
    "    clean_efficiency_link,\n",
    "    clean_ciclicity_storage,\n",
    "    clean_marginal_cost_intermittent,\n",
    "    clean_storage_units,\n",
    "    clean_stores,\n",
    "    parse_txt_file,\n",
    "    compare_networks,\n",
    "    add_slack_unit\n",
    "    )\n",
    "\n",
    "def get_datafile(fname):\n",
    "    return os.path.join(os.path.dirname(__file__), \"test_data\", fname)\n",
    "\n",
    "#%% Network definition with PyPSA\n",
    "config = TestConfig()\n",
    "nd = NetworkDefinition(config)\n",
    "\n",
    "nd.n = add_slack_unit(nd.n)\n",
    "nd.n = clean_ciclicity_storage(nd.n)\n",
    "\n",
    "\n",
    "network = nd.n.copy()\n",
    "network.optimize(solver_name='gurobi')\n",
    "\n",
    "# network.export_to_netcdf(\"test_pypsa.nc\")\n",
    "\n",
    "# network.model.to_file(fn = \"f.lp\")\n",
    "#%% Transformation class\n",
    "then = datetime.now()\n",
    "transformation = Transformation(network, merge_links=True)\n",
    "print(f\"La classe di trasformazione ci mette {datetime.now() - then} secondi\")\n",
    "\n",
    "tran = transformation.convert_to_blocks()"
   ]
  },
  {
   "cell_type": "code",
   "execution_count": 2,
   "id": "d75ec45c",
   "metadata": {},
   "outputs": [
    {
     "name": "stdout",
     "output_type": "stream",
     "text": [
      "Executing command:\n",
      "ucblock_solver /dati/pampado/pypsa2smspp/test/output/network_uc_hydro_0011.nc -c /dati/pampado/pySMSpp/pysmspp/data/configs/UCBlock/ -S uc_solverconfig_grb.txt -o -O /dati/pampado/pypsa2smspp/test/output/solution_uc_hydro_0011.nc\n",
      "\n",
      "Error PyPSA-SMS++ of -54.40703020934829%\n",
      "Il solver ci ha messo 0.003524296s\n",
      "Il tempo totale (trasformazione+pysmspp+ottimizzazione smspp) è 0:00:00.974319\n",
      "[split] 'DCNetworkBlock_4' -> 'IT0 0 H2 Electrolysis' + 'IT0 0 H2 Fuel Cell'\n"
     ]
    }
   ],
   "source": [
    "a = 5\n",
    "if transformation.dimensions['InvestmentBlock']['NumAssets'] == 0 or a == 5:\n",
    "    ### UCBlock configuration ###\n",
    "    configfile = pysmspp.SMSConfig(template=\"UCBlock/uc_solverconfig_grb\")  # load a default config file [highs solver]\n",
    "    temporary_smspp_file = \"output/network_uc_hydro_0011.nc\"  # path to temporary SMS++ file\n",
    "    output_file = \"output/temp_log_file.txt\"  # path to the output file (optional)\n",
    "    solution_file = \"output/solution_uc_hydro_0011.nc\"\n",
    "    \n",
    "    # Check if the file exists\n",
    "    if os.path.exists(solution_file):\n",
    "        os.remove(solution_file)\n",
    "    \n",
    "    result = tran.optimize(configfile, temporary_smspp_file, output_file, solution_file, log_executable_call=True)\n",
    "    \n",
    "    statistics = network.statistics()\n",
    "    operational_cost = statistics['Operational Expenditure'].sum()\n",
    "    # error = (operational_cost - result.objective_value) / operational_cost * 100\n",
    "\n",
    "    objective_pypsa = network.objective # + network.objective_constant\n",
    "    objective_smspp = result.objective_value\n",
    "    error = (objective_pypsa - objective_smspp) / objective_pypsa * 100\n",
    "    \n",
    "    print(f\"Error PyPSA-SMS++ of {error}%\")\n",
    "    \n",
    "    # Esegui la funzione sul file di testo\n",
    "    data_dict = parse_txt_file(output_file)\n",
    "\n",
    "    print(f\"Il solver ci ha messo {data_dict['elapsed_time']}s\")\n",
    "    print(f\"Il tempo totale (trasformazione+pysmspp+ottimizzazione smspp) è {datetime.now() - then}\")\n",
    "\n",
    "    \n",
    "    solution = transformation.parse_solution_to_unitblocks(result.solution, nd.n)\n",
    "    # transformation.parse_txt_to_unitblocks(output_file)\n",
    "    transformation.inverse_transformation(nd.n)\n",
    "\n",
    "    differences = compare_networks(network, nd.n)\n",
    "    statistics_smspp = nd.n.statistics()\n",
    "    \n",
    "\n",
    "else:\n",
    "    ### InvestmentBlock configuration ###\n",
    "    configfile = pysmspp.SMSConfig(template=\"InvestmentBlock/BSPar.txt\")\n",
    "    temporary_smspp_file = \"output/temp_network_investment_daily.nc\"\n",
    "    output_file = \"output/temp_log_file_investment.txt\"  # path to the output file (optional)\n",
    "    solution_file = \"output/temp_solution_file_investment.nc\"\n",
    "    \n",
    "    # Check if the file exists\n",
    "    if os.path.exists(solution_file):\n",
    "        os.remove(solution_file)\n",
    "    \n",
    "    result = tran.optimize(configfile, temporary_smspp_file, output_file, solution_file, inner_block_name='InvestmentBlock', log_executable_call=True)\n",
    "    \n",
    "    \n",
    "    objective_pypsa = network.objective # + network.objective_constant\n",
    "    objective_smspp = result.objective_value\n",
    "    error = (objective_pypsa - objective_smspp) / objective_pypsa * 100\n",
    "    \n",
    "    print(f\"Error PyPSA-SMS++ of {error}%\")\n",
    "    print(f\"Il tempo totale (trasformazione+pysmspp+ottimizzazione smspp) è {datetime.now() - then}\")\n",
    "\n",
    "    solution = transformation.parse_solution_to_unitblocks(result.solution, nd.n)\n",
    "    transformation.inverse_transformation(nd.n)"
   ]
  },
  {
   "cell_type": "code",
   "execution_count": 3,
   "id": "1aa3e568",
   "metadata": {},
   "outputs": [
    {
     "data": {
      "text/html": [
       "<div>\n",
       "<style scoped>\n",
       "    .dataframe tbody tr th:only-of-type {\n",
       "        vertical-align: middle;\n",
       "    }\n",
       "\n",
       "    .dataframe tbody tr th {\n",
       "        vertical-align: top;\n",
       "    }\n",
       "\n",
       "    .dataframe thead th {\n",
       "        text-align: right;\n",
       "    }\n",
       "</style>\n",
       "<table border=\"1\" class=\"dataframe\">\n",
       "  <thead>\n",
       "    <tr style=\"text-align: right;\">\n",
       "      <th></th>\n",
       "      <th></th>\n",
       "      <th>Optimal Capacity</th>\n",
       "      <th>Installed Capacity</th>\n",
       "      <th>Supply</th>\n",
       "      <th>Withdrawal</th>\n",
       "      <th>Energy Balance</th>\n",
       "      <th>Transmission</th>\n",
       "      <th>Capacity Factor</th>\n",
       "      <th>Curtailment</th>\n",
       "      <th>Capital Expenditure</th>\n",
       "      <th>Operational Expenditure</th>\n",
       "      <th>Revenue</th>\n",
       "      <th>Market Value</th>\n",
       "    </tr>\n",
       "  </thead>\n",
       "  <tbody>\n",
       "    <tr>\n",
       "      <th rowspan=\"2\" valign=\"top\">Generator</th>\n",
       "      <th>slack</th>\n",
       "      <td>13179.69395</td>\n",
       "      <td>13179.69395</td>\n",
       "      <td>41398.83402</td>\n",
       "      <td>0.00000</td>\n",
       "      <td>41398.83402</td>\n",
       "      <td>0.0</td>\n",
       "      <td>0.130879</td>\n",
       "      <td>274913.82075</td>\n",
       "      <td>0.000000e+00</td>\n",
       "      <td>4.139883e+08</td>\n",
       "      <td>4.139883e+08</td>\n",
       "      <td>9999.999986</td>\n",
       "    </tr>\n",
       "    <tr>\n",
       "      <th>solar</th>\n",
       "      <td>19711.86918</td>\n",
       "      <td>19711.86918</td>\n",
       "      <td>25544.78232</td>\n",
       "      <td>0.00000</td>\n",
       "      <td>25544.78232</td>\n",
       "      <td>0.0</td>\n",
       "      <td>0.053996</td>\n",
       "      <td>101123.68905</td>\n",
       "      <td>1.079110e+09</td>\n",
       "      <td>2.554478e+02</td>\n",
       "      <td>7.293640e+06</td>\n",
       "      <td>285.523660</td>\n",
       "    </tr>\n",
       "    <tr>\n",
       "      <th rowspan=\"2\" valign=\"top\">Link</th>\n",
       "      <th>H2 electrolysis</th>\n",
       "      <td>100.00000</td>\n",
       "      <td>100.00000</td>\n",
       "      <td>0.00000</td>\n",
       "      <td>1099.94803</td>\n",
       "      <td>-1099.94803</td>\n",
       "      <td>0.0</td>\n",
       "      <td>0.458312</td>\n",
       "      <td>0.00000</td>\n",
       "      <td>2.516210e+07</td>\n",
       "      <td>0.000000e+00</td>\n",
       "      <td>-1.099948e+01</td>\n",
       "      <td>NaN</td>\n",
       "    </tr>\n",
       "    <tr>\n",
       "      <th>H2 fuel cell</th>\n",
       "      <td>100.00000</td>\n",
       "      <td>100.00000</td>\n",
       "      <td>0.00000</td>\n",
       "      <td>635.00000</td>\n",
       "      <td>-635.00000</td>\n",
       "      <td>0.0</td>\n",
       "      <td>0.264583</td>\n",
       "      <td>0.00000</td>\n",
       "      <td>1.323257e+07</td>\n",
       "      <td>0.000000e+00</td>\n",
       "      <td>-3.175000e+06</td>\n",
       "      <td>NaN</td>\n",
       "    </tr>\n",
       "    <tr>\n",
       "      <th>Load</th>\n",
       "      <th>AC</th>\n",
       "      <td>0.00000</td>\n",
       "      <td>0.00000</td>\n",
       "      <td>0.00000</td>\n",
       "      <td>66161.16831</td>\n",
       "      <td>-66161.16831</td>\n",
       "      <td>0.0</td>\n",
       "      <td>NaN</td>\n",
       "      <td>0.00000</td>\n",
       "      <td>0.000000e+00</td>\n",
       "      <td>0.000000e+00</td>\n",
       "      <td>-4.244570e+08</td>\n",
       "      <td>NaN</td>\n",
       "    </tr>\n",
       "    <tr>\n",
       "      <th>Store</th>\n",
       "      <th>H2</th>\n",
       "      <td>635.00000</td>\n",
       "      <td>635.00000</td>\n",
       "      <td>635.00000</td>\n",
       "      <td>635.00000</td>\n",
       "      <td>0.00000</td>\n",
       "      <td>0.0</td>\n",
       "      <td>0.403862</td>\n",
       "      <td>0.00000</td>\n",
       "      <td>1.412782e+05</td>\n",
       "      <td>0.000000e+00</td>\n",
       "      <td>3.174989e+06</td>\n",
       "      <td>4999.983308</td>\n",
       "    </tr>\n",
       "  </tbody>\n",
       "</table>\n",
       "</div>"
      ],
      "text/plain": [
       "                           Optimal Capacity  Installed Capacity       Supply  \\\n",
       "Generator slack                 13179.69395         13179.69395  41398.83402   \n",
       "          solar                 19711.86918         19711.86918  25544.78232   \n",
       "Link      H2 electrolysis         100.00000           100.00000      0.00000   \n",
       "          H2 fuel cell            100.00000           100.00000      0.00000   \n",
       "Load      AC                        0.00000             0.00000      0.00000   \n",
       "Store     H2                      635.00000           635.00000    635.00000   \n",
       "\n",
       "                            Withdrawal  Energy Balance Transmission  \\\n",
       "Generator slack                0.00000     41398.83402          0.0   \n",
       "          solar                0.00000     25544.78232          0.0   \n",
       "Link      H2 electrolysis   1099.94803     -1099.94803          0.0   \n",
       "          H2 fuel cell       635.00000      -635.00000          0.0   \n",
       "Load      AC               66161.16831    -66161.16831          0.0   \n",
       "Store     H2                 635.00000         0.00000          0.0   \n",
       "\n",
       "                           Capacity Factor   Curtailment  Capital Expenditure  \\\n",
       "Generator slack                   0.130879  274913.82075         0.000000e+00   \n",
       "          solar                   0.053996  101123.68905         1.079110e+09   \n",
       "Link      H2 electrolysis         0.458312       0.00000         2.516210e+07   \n",
       "          H2 fuel cell            0.264583       0.00000         1.323257e+07   \n",
       "Load      AC                           NaN       0.00000         0.000000e+00   \n",
       "Store     H2                      0.403862       0.00000         1.412782e+05   \n",
       "\n",
       "                           Operational Expenditure       Revenue  Market Value  \n",
       "Generator slack                       4.139883e+08  4.139883e+08   9999.999986  \n",
       "          solar                       2.554478e+02  7.293640e+06    285.523660  \n",
       "Link      H2 electrolysis             0.000000e+00 -1.099948e+01           NaN  \n",
       "          H2 fuel cell                0.000000e+00 -3.175000e+06           NaN  \n",
       "Load      AC                          0.000000e+00 -4.244570e+08           NaN  \n",
       "Store     H2                          0.000000e+00  3.174989e+06   4999.983308  "
      ]
     },
     "execution_count": 3,
     "metadata": {},
     "output_type": "execute_result"
    }
   ],
   "source": [
    "network.statistics()"
   ]
  },
  {
   "cell_type": "code",
   "execution_count": 4,
   "id": "46d609ba",
   "metadata": {},
   "outputs": [
    {
     "data": {
      "text/html": [
       "<div>\n",
       "<style scoped>\n",
       "    .dataframe tbody tr th:only-of-type {\n",
       "        vertical-align: middle;\n",
       "    }\n",
       "\n",
       "    .dataframe tbody tr th {\n",
       "        vertical-align: top;\n",
       "    }\n",
       "\n",
       "    .dataframe thead th {\n",
       "        text-align: right;\n",
       "    }\n",
       "</style>\n",
       "<table border=\"1\" class=\"dataframe\">\n",
       "  <thead>\n",
       "    <tr style=\"text-align: right;\">\n",
       "      <th></th>\n",
       "      <th></th>\n",
       "      <th>Optimal Capacity</th>\n",
       "      <th>Installed Capacity</th>\n",
       "      <th>Supply</th>\n",
       "      <th>Withdrawal</th>\n",
       "      <th>Energy Balance</th>\n",
       "      <th>Transmission</th>\n",
       "      <th>Capacity Factor</th>\n",
       "      <th>Curtailment</th>\n",
       "      <th>Capital Expenditure</th>\n",
       "      <th>Operational Expenditure</th>\n",
       "      <th>Revenue</th>\n",
       "      <th>Market Value</th>\n",
       "    </tr>\n",
       "  </thead>\n",
       "  <tbody>\n",
       "    <tr>\n",
       "      <th rowspan=\"2\" valign=\"top\">Generator</th>\n",
       "      <th>slack</th>\n",
       "      <td>13179.69395</td>\n",
       "      <td>13179.69395</td>\n",
       "      <td>46880.03867</td>\n",
       "      <td>0.00000</td>\n",
       "      <td>46880.03867</td>\n",
       "      <td>0.0</td>\n",
       "      <td>0.148208</td>\n",
       "      <td>269432.61611</td>\n",
       "      <td>0.000000e+00</td>\n",
       "      <td>4.688004e+08</td>\n",
       "      <td>0.0</td>\n",
       "      <td>NaN</td>\n",
       "    </tr>\n",
       "    <tr>\n",
       "      <th>solar</th>\n",
       "      <td>19711.86918</td>\n",
       "      <td>19711.86918</td>\n",
       "      <td>19371.47110</td>\n",
       "      <td>0.00000</td>\n",
       "      <td>19371.47110</td>\n",
       "      <td>0.0</td>\n",
       "      <td>0.040947</td>\n",
       "      <td>107297.00028</td>\n",
       "      <td>1.079110e+09</td>\n",
       "      <td>1.937147e+02</td>\n",
       "      <td>0.0</td>\n",
       "      <td>NaN</td>\n",
       "    </tr>\n",
       "    <tr>\n",
       "      <th rowspan=\"2\" valign=\"top\">Link</th>\n",
       "      <th>H2 electrolysis</th>\n",
       "      <td>100.00000</td>\n",
       "      <td>100.00000</td>\n",
       "      <td>0.00000</td>\n",
       "      <td>127.00000</td>\n",
       "      <td>-127.00000</td>\n",
       "      <td>0.0</td>\n",
       "      <td>0.052917</td>\n",
       "      <td>0.00000</td>\n",
       "      <td>2.516210e+07</td>\n",
       "      <td>0.000000e+00</td>\n",
       "      <td>0.0</td>\n",
       "      <td>0.0</td>\n",
       "    </tr>\n",
       "    <tr>\n",
       "      <th>H2 fuel cell</th>\n",
       "      <td>100.00000</td>\n",
       "      <td>100.00000</td>\n",
       "      <td>0.00000</td>\n",
       "      <td>1526.90711</td>\n",
       "      <td>-1526.90711</td>\n",
       "      <td>0.0</td>\n",
       "      <td>0.636211</td>\n",
       "      <td>0.00000</td>\n",
       "      <td>1.323257e+07</td>\n",
       "      <td>0.000000e+00</td>\n",
       "      <td>0.0</td>\n",
       "      <td>0.0</td>\n",
       "    </tr>\n",
       "    <tr>\n",
       "      <th>Load</th>\n",
       "      <th>AC</th>\n",
       "      <td>0.00000</td>\n",
       "      <td>0.00000</td>\n",
       "      <td>0.00000</td>\n",
       "      <td>66161.16831</td>\n",
       "      <td>-66161.16831</td>\n",
       "      <td>0.0</td>\n",
       "      <td>NaN</td>\n",
       "      <td>0.00000</td>\n",
       "      <td>0.000000e+00</td>\n",
       "      <td>0.000000e+00</td>\n",
       "      <td>0.0</td>\n",
       "      <td>0.0</td>\n",
       "    </tr>\n",
       "    <tr>\n",
       "      <th>Store</th>\n",
       "      <th>H2</th>\n",
       "      <td>635.00000</td>\n",
       "      <td>635.00000</td>\n",
       "      <td>0.00000</td>\n",
       "      <td>0.00000</td>\n",
       "      <td>0.00000</td>\n",
       "      <td>0.0</td>\n",
       "      <td>0.000000</td>\n",
       "      <td>0.00000</td>\n",
       "      <td>1.412782e+05</td>\n",
       "      <td>0.000000e+00</td>\n",
       "      <td>0.0</td>\n",
       "      <td>0.0</td>\n",
       "    </tr>\n",
       "  </tbody>\n",
       "</table>\n",
       "</div>"
      ],
      "text/plain": [
       "                           Optimal Capacity  Installed Capacity       Supply  \\\n",
       "Generator slack                 13179.69395         13179.69395  46880.03867   \n",
       "          solar                 19711.86918         19711.86918  19371.47110   \n",
       "Link      H2 electrolysis         100.00000           100.00000      0.00000   \n",
       "          H2 fuel cell            100.00000           100.00000      0.00000   \n",
       "Load      AC                        0.00000             0.00000      0.00000   \n",
       "Store     H2                      635.00000           635.00000      0.00000   \n",
       "\n",
       "                            Withdrawal  Energy Balance Transmission  \\\n",
       "Generator slack                0.00000     46880.03867          0.0   \n",
       "          solar                0.00000     19371.47110          0.0   \n",
       "Link      H2 electrolysis    127.00000      -127.00000          0.0   \n",
       "          H2 fuel cell      1526.90711     -1526.90711          0.0   \n",
       "Load      AC               66161.16831    -66161.16831          0.0   \n",
       "Store     H2                   0.00000         0.00000          0.0   \n",
       "\n",
       "                           Capacity Factor   Curtailment  Capital Expenditure  \\\n",
       "Generator slack                   0.148208  269432.61611         0.000000e+00   \n",
       "          solar                   0.040947  107297.00028         1.079110e+09   \n",
       "Link      H2 electrolysis         0.052917       0.00000         2.516210e+07   \n",
       "          H2 fuel cell            0.636211       0.00000         1.323257e+07   \n",
       "Load      AC                           NaN       0.00000         0.000000e+00   \n",
       "Store     H2                      0.000000       0.00000         1.412782e+05   \n",
       "\n",
       "                           Operational Expenditure  Revenue  Market Value  \n",
       "Generator slack                       4.688004e+08      0.0           NaN  \n",
       "          solar                       1.937147e+02      0.0           NaN  \n",
       "Link      H2 electrolysis             0.000000e+00      0.0           0.0  \n",
       "          H2 fuel cell                0.000000e+00      0.0           0.0  \n",
       "Load      AC                          0.000000e+00      0.0           0.0  \n",
       "Store     H2                          0.000000e+00      0.0           0.0  "
      ]
     },
     "execution_count": 4,
     "metadata": {},
     "output_type": "execute_result"
    }
   ],
   "source": [
    "nd.n.statistics()"
   ]
  },
  {
   "cell_type": "code",
   "execution_count": 10,
   "id": "5c7121cf",
   "metadata": {},
   "outputs": [],
   "source": [
    "a = transformation.unitblocks['BatteryUnitBlock_3']['variables']['ConverterMaxPower']"
   ]
  },
  {
   "cell_type": "code",
   "execution_count": 27,
   "id": "8395bddf",
   "metadata": {},
   "outputs": [
    {
     "data": {
      "text/plain": [
       "4.139885956833195"
      ]
     },
     "execution_count": 27,
     "metadata": {},
     "output_type": "execute_result"
    }
   ],
   "source": [
    "network.objective / 1e8"
   ]
  },
  {
   "cell_type": "code",
   "execution_count": 25,
   "id": "41cd66cf",
   "metadata": {},
   "outputs": [
    {
     "data": {
      "text/html": [
       "<div>\n",
       "<style scoped>\n",
       "    .dataframe tbody tr th:only-of-type {\n",
       "        vertical-align: middle;\n",
       "    }\n",
       "\n",
       "    .dataframe tbody tr th {\n",
       "        vertical-align: top;\n",
       "    }\n",
       "\n",
       "    .dataframe thead th {\n",
       "        text-align: right;\n",
       "    }\n",
       "</style>\n",
       "<table border=\"1\" class=\"dataframe\">\n",
       "  <thead>\n",
       "    <tr style=\"text-align: right;\">\n",
       "      <th>Link</th>\n",
       "      <th>IT0 0 H2 Electrolysis</th>\n",
       "      <th>IT0 0 H2 Fuel Cell</th>\n",
       "    </tr>\n",
       "    <tr>\n",
       "      <th>snapshot</th>\n",
       "      <th></th>\n",
       "      <th></th>\n",
       "    </tr>\n",
       "  </thead>\n",
       "  <tbody>\n",
       "    <tr>\n",
       "      <th>0</th>\n",
       "      <td>0.000000</td>\n",
       "      <td>0.0</td>\n",
       "    </tr>\n",
       "    <tr>\n",
       "      <th>1</th>\n",
       "      <td>0.000000</td>\n",
       "      <td>0.0</td>\n",
       "    </tr>\n",
       "    <tr>\n",
       "      <th>2</th>\n",
       "      <td>0.000000</td>\n",
       "      <td>0.0</td>\n",
       "    </tr>\n",
       "    <tr>\n",
       "      <th>3</th>\n",
       "      <td>0.000000</td>\n",
       "      <td>0.0</td>\n",
       "    </tr>\n",
       "    <tr>\n",
       "      <th>4</th>\n",
       "      <td>99.948034</td>\n",
       "      <td>0.0</td>\n",
       "    </tr>\n",
       "    <tr>\n",
       "      <th>5</th>\n",
       "      <td>100.000000</td>\n",
       "      <td>0.0</td>\n",
       "    </tr>\n",
       "    <tr>\n",
       "      <th>6</th>\n",
       "      <td>100.000000</td>\n",
       "      <td>0.0</td>\n",
       "    </tr>\n",
       "    <tr>\n",
       "      <th>7</th>\n",
       "      <td>100.000000</td>\n",
       "      <td>0.0</td>\n",
       "    </tr>\n",
       "    <tr>\n",
       "      <th>8</th>\n",
       "      <td>100.000000</td>\n",
       "      <td>0.0</td>\n",
       "    </tr>\n",
       "    <tr>\n",
       "      <th>9</th>\n",
       "      <td>100.000000</td>\n",
       "      <td>0.0</td>\n",
       "    </tr>\n",
       "    <tr>\n",
       "      <th>10</th>\n",
       "      <td>100.000000</td>\n",
       "      <td>0.0</td>\n",
       "    </tr>\n",
       "    <tr>\n",
       "      <th>11</th>\n",
       "      <td>100.000000</td>\n",
       "      <td>0.0</td>\n",
       "    </tr>\n",
       "    <tr>\n",
       "      <th>12</th>\n",
       "      <td>100.000000</td>\n",
       "      <td>0.0</td>\n",
       "    </tr>\n",
       "    <tr>\n",
       "      <th>13</th>\n",
       "      <td>100.000000</td>\n",
       "      <td>0.0</td>\n",
       "    </tr>\n",
       "    <tr>\n",
       "      <th>14</th>\n",
       "      <td>100.000000</td>\n",
       "      <td>0.0</td>\n",
       "    </tr>\n",
       "    <tr>\n",
       "      <th>15</th>\n",
       "      <td>0.000000</td>\n",
       "      <td>0.0</td>\n",
       "    </tr>\n",
       "    <tr>\n",
       "      <th>16</th>\n",
       "      <td>0.000000</td>\n",
       "      <td>100.0</td>\n",
       "    </tr>\n",
       "    <tr>\n",
       "      <th>17</th>\n",
       "      <td>0.000000</td>\n",
       "      <td>100.0</td>\n",
       "    </tr>\n",
       "    <tr>\n",
       "      <th>18</th>\n",
       "      <td>0.000000</td>\n",
       "      <td>100.0</td>\n",
       "    </tr>\n",
       "    <tr>\n",
       "      <th>19</th>\n",
       "      <td>0.000000</td>\n",
       "      <td>100.0</td>\n",
       "    </tr>\n",
       "    <tr>\n",
       "      <th>20</th>\n",
       "      <td>0.000000</td>\n",
       "      <td>100.0</td>\n",
       "    </tr>\n",
       "    <tr>\n",
       "      <th>21</th>\n",
       "      <td>0.000000</td>\n",
       "      <td>100.0</td>\n",
       "    </tr>\n",
       "    <tr>\n",
       "      <th>22</th>\n",
       "      <td>0.000000</td>\n",
       "      <td>35.0</td>\n",
       "    </tr>\n",
       "    <tr>\n",
       "      <th>23</th>\n",
       "      <td>0.000000</td>\n",
       "      <td>0.0</td>\n",
       "    </tr>\n",
       "  </tbody>\n",
       "</table>\n",
       "</div>"
      ],
      "text/plain": [
       "Link      IT0 0 H2 Electrolysis  IT0 0 H2 Fuel Cell\n",
       "snapshot                                           \n",
       "0                      0.000000                 0.0\n",
       "1                      0.000000                 0.0\n",
       "2                      0.000000                 0.0\n",
       "3                      0.000000                 0.0\n",
       "4                     99.948034                 0.0\n",
       "5                    100.000000                 0.0\n",
       "6                    100.000000                 0.0\n",
       "7                    100.000000                 0.0\n",
       "8                    100.000000                 0.0\n",
       "9                    100.000000                 0.0\n",
       "10                   100.000000                 0.0\n",
       "11                   100.000000                 0.0\n",
       "12                   100.000000                 0.0\n",
       "13                   100.000000                 0.0\n",
       "14                   100.000000                 0.0\n",
       "15                     0.000000                 0.0\n",
       "16                     0.000000               100.0\n",
       "17                     0.000000               100.0\n",
       "18                     0.000000               100.0\n",
       "19                     0.000000               100.0\n",
       "20                     0.000000               100.0\n",
       "21                     0.000000               100.0\n",
       "22                     0.000000                35.0\n",
       "23                     0.000000                 0.0"
      ]
     },
     "execution_count": 25,
     "metadata": {},
     "output_type": "execute_result"
    }
   ],
   "source": [
    "network.links_t['p0']"
   ]
  }
 ],
 "metadata": {
  "kernelspec": {
   "display_name": "transformation",
   "language": "python",
   "name": "python3"
  },
  "language_info": {
   "codemirror_mode": {
    "name": "ipython",
    "version": 3
   },
   "file_extension": ".py",
   "mimetype": "text/x-python",
   "name": "python",
   "nbconvert_exporter": "python",
   "pygments_lexer": "ipython3",
   "version": "3.10.18"
  }
 },
 "nbformat": 4,
 "nbformat_minor": 5
}
